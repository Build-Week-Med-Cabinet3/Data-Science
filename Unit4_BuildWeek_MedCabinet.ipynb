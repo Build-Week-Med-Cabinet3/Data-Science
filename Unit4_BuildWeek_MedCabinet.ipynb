{
  "nbformat": 4,
  "nbformat_minor": 0,
  "metadata": {
    "colab": {
      "name": "Unit4_BuildWeek_MedCabinet.ipynb",
      "provenance": [],
      "collapsed_sections": []
    },
    "kernelspec": {
      "name": "python3",
      "display_name": "Python 3"
    }
  },
  "cells": [
    {
      "cell_type": "code",
      "metadata": {
        "id": "cPJEicy6Rxjo"
      },
      "source": [
        "import pandas as pd\n",
        "import numpy as np"
      ],
      "execution_count": null,
      "outputs": []
    },
    {
      "cell_type": "code",
      "metadata": {
        "id": "2eYX2yKqSKOZ",
        "outputId": "2c865368-bcc8-4515-a9af-ced51775e179",
        "colab": {
          "base_uri": "https://localhost:8080/",
          "height": 34
        }
      },
      "source": [
        "from google.colab import drive\n",
        "drive.mount('/content/drive')"
      ],
      "execution_count": null,
      "outputs": [
        {
          "output_type": "stream",
          "text": [
            "Mounted at /content/drive\n"
          ],
          "name": "stdout"
        }
      ]
    },
    {
      "cell_type": "code",
      "metadata": {
        "id": "w14Pl8GLS0cx",
        "outputId": "8ad83c69-001a-4541-86cd-1db3c0c6fb93",
        "colab": {
          "base_uri": "https://localhost:8080/",
          "height": 34
        }
      },
      "source": [
        "data = pd.read_csv('/content/drive/My Drive/cannabis.csv')\n",
        "data.shape"
      ],
      "execution_count": null,
      "outputs": [
        {
          "output_type": "execute_result",
          "data": {
            "text/plain": [
              "(2351, 6)"
            ]
          },
          "metadata": {
            "tags": []
          },
          "execution_count": 3
        }
      ]
    },
    {
      "cell_type": "code",
      "metadata": {
        "id": "cQIh7R3XTEmz",
        "outputId": "eb93d945-0413-49a6-e0b1-67f69ed9c374",
        "colab": {
          "base_uri": "https://localhost:8080/",
          "height": 204
        }
      },
      "source": [
        "data.head()"
      ],
      "execution_count": null,
      "outputs": [
        {
          "output_type": "execute_result",
          "data": {
            "text/html": [
              "<div>\n",
              "<style scoped>\n",
              "    .dataframe tbody tr th:only-of-type {\n",
              "        vertical-align: middle;\n",
              "    }\n",
              "\n",
              "    .dataframe tbody tr th {\n",
              "        vertical-align: top;\n",
              "    }\n",
              "\n",
              "    .dataframe thead th {\n",
              "        text-align: right;\n",
              "    }\n",
              "</style>\n",
              "<table border=\"1\" class=\"dataframe\">\n",
              "  <thead>\n",
              "    <tr style=\"text-align: right;\">\n",
              "      <th></th>\n",
              "      <th>Strain</th>\n",
              "      <th>Type</th>\n",
              "      <th>Rating</th>\n",
              "      <th>Effects</th>\n",
              "      <th>Flavor</th>\n",
              "      <th>Description</th>\n",
              "    </tr>\n",
              "  </thead>\n",
              "  <tbody>\n",
              "    <tr>\n",
              "      <th>0</th>\n",
              "      <td>100-Og</td>\n",
              "      <td>hybrid</td>\n",
              "      <td>4.0</td>\n",
              "      <td>Creative,Energetic,Tingly,Euphoric,Relaxed</td>\n",
              "      <td>Earthy,Sweet,Citrus</td>\n",
              "      <td>$100 OG is a 50/50 hybrid strain that packs a ...</td>\n",
              "    </tr>\n",
              "    <tr>\n",
              "      <th>1</th>\n",
              "      <td>98-White-Widow</td>\n",
              "      <td>hybrid</td>\n",
              "      <td>4.7</td>\n",
              "      <td>Relaxed,Aroused,Creative,Happy,Energetic</td>\n",
              "      <td>Flowery,Violet,Diesel</td>\n",
              "      <td>The ‘98 Aloha White Widow is an especially pot...</td>\n",
              "    </tr>\n",
              "    <tr>\n",
              "      <th>2</th>\n",
              "      <td>1024</td>\n",
              "      <td>sativa</td>\n",
              "      <td>4.4</td>\n",
              "      <td>Uplifted,Happy,Relaxed,Energetic,Creative</td>\n",
              "      <td>Spicy/Herbal,Sage,Woody</td>\n",
              "      <td>1024 is a sativa-dominant hybrid bred in Spain...</td>\n",
              "    </tr>\n",
              "    <tr>\n",
              "      <th>3</th>\n",
              "      <td>13-Dawgs</td>\n",
              "      <td>hybrid</td>\n",
              "      <td>4.2</td>\n",
              "      <td>Tingly,Creative,Hungry,Relaxed,Uplifted</td>\n",
              "      <td>Apricot,Citrus,Grapefruit</td>\n",
              "      <td>13 Dawgs is a hybrid of G13 and Chemdawg genet...</td>\n",
              "    </tr>\n",
              "    <tr>\n",
              "      <th>4</th>\n",
              "      <td>24K-Gold</td>\n",
              "      <td>hybrid</td>\n",
              "      <td>4.6</td>\n",
              "      <td>Happy,Relaxed,Euphoric,Uplifted,Talkative</td>\n",
              "      <td>Citrus,Earthy,Orange</td>\n",
              "      <td>Also known as Kosher Tangie, 24k Gold is a 60%...</td>\n",
              "    </tr>\n",
              "  </tbody>\n",
              "</table>\n",
              "</div>"
            ],
            "text/plain": [
              "           Strain  ...                                        Description\n",
              "0          100-Og  ...  $100 OG is a 50/50 hybrid strain that packs a ...\n",
              "1  98-White-Widow  ...  The ‘98 Aloha White Widow is an especially pot...\n",
              "2            1024  ...  1024 is a sativa-dominant hybrid bred in Spain...\n",
              "3        13-Dawgs  ...  13 Dawgs is a hybrid of G13 and Chemdawg genet...\n",
              "4        24K-Gold  ...  Also known as Kosher Tangie, 24k Gold is a 60%...\n",
              "\n",
              "[5 rows x 6 columns]"
            ]
          },
          "metadata": {
            "tags": []
          },
          "execution_count": 4
        }
      ]
    },
    {
      "cell_type": "code",
      "metadata": {
        "id": "zGYS5hRmTKQE",
        "outputId": "3e57c030-937e-474f-bfce-a8a35cfc7e96",
        "colab": {
          "base_uri": "https://localhost:8080/",
          "height": 136
        }
      },
      "source": [
        "data.isnull().sum()"
      ],
      "execution_count": null,
      "outputs": [
        {
          "output_type": "execute_result",
          "data": {
            "text/plain": [
              "Strain          0\n",
              "Type            0\n",
              "Rating          0\n",
              "Effects         0\n",
              "Flavor         46\n",
              "Description    33\n",
              "dtype: int64"
            ]
          },
          "metadata": {
            "tags": []
          },
          "execution_count": 5
        }
      ]
    },
    {
      "cell_type": "code",
      "metadata": {
        "id": "n_y2L4LGUIDL"
      },
      "source": [
        "data['Flavor'] = data['Flavor'].replace(np.nan, 'Flavor information now is unavailable. ')\n",
        "data['Description'] = data['Description'].replace(np.nan, 'Description information is unknown.')"
      ],
      "execution_count": null,
      "outputs": []
    },
    {
      "cell_type": "code",
      "metadata": {
        "id": "a8sRXCxJrauu",
        "outputId": "7dce759e-0303-405a-81eb-d6b677c78d50",
        "colab": {
          "base_uri": "https://localhost:8080/",
          "height": 119
        }
      },
      "source": [
        "data['Effects'].str.lower().str.split(',').str.len().value_counts()"
      ],
      "execution_count": null,
      "outputs": [
        {
          "output_type": "execute_result",
          "data": {
            "text/plain": [
              "5    2180\n",
              "1      97\n",
              "4      32\n",
              "3      27\n",
              "2      15\n",
              "Name: Effects, dtype: int64"
            ]
          },
          "metadata": {
            "tags": []
          },
          "execution_count": 7
        }
      ]
    },
    {
      "cell_type": "code",
      "metadata": {
        "id": "gPnhOSvwq-X2",
        "outputId": "a1c6055d-7201-4045-8c39-c9f5bc13f8ea",
        "colab": {
          "base_uri": "https://localhost:8080/",
          "height": 306
        }
      },
      "source": [
        "data_effects = set()\n",
        "for row in data['Effects'].str.lower().str.split(','):\n",
        "  data_effects.update(set(row))\n",
        "len(data_effects), data_effects"
      ],
      "execution_count": null,
      "outputs": [
        {
          "output_type": "execute_result",
          "data": {
            "text/plain": [
              "(16,\n",
              " {'aroused',\n",
              "  'creative',\n",
              "  'dry',\n",
              "  'energetic',\n",
              "  'euphoric',\n",
              "  'focused',\n",
              "  'giggly',\n",
              "  'happy',\n",
              "  'hungry',\n",
              "  'mouth',\n",
              "  'none',\n",
              "  'relaxed',\n",
              "  'sleepy',\n",
              "  'talkative',\n",
              "  'tingly',\n",
              "  'uplifted'})"
            ]
          },
          "metadata": {
            "tags": []
          },
          "execution_count": 9
        }
      ]
    },
    {
      "cell_type": "code",
      "metadata": {
        "id": "zvKEO_Xe35kh",
        "outputId": "f61153e2-4073-4746-98cb-158e5b626cdb",
        "colab": {
          "base_uri": "https://localhost:8080/",
          "height": 901
        }
      },
      "source": [
        "data_flavor = set()\n",
        "for row in data['Flavor'].str.lower().str.split(','):\n",
        "  data_flavor.update(set(row))\n",
        "len(data_flavor), data_flavor"
      ],
      "execution_count": null,
      "outputs": [
        {
          "output_type": "execute_result",
          "data": {
            "text/plain": [
              "(51,\n",
              " {'ammonia',\n",
              "  'apple',\n",
              "  'apricot',\n",
              "  'berry',\n",
              "  'blue',\n",
              "  'blueberry',\n",
              "  'butter',\n",
              "  'cheese',\n",
              "  'chemical',\n",
              "  'chestnut',\n",
              "  'citrus',\n",
              "  'coffee',\n",
              "  'diesel',\n",
              "  'earthy',\n",
              "  'flavor information now is unavailable. ',\n",
              "  'flowery',\n",
              "  'fruit',\n",
              "  'grape',\n",
              "  'grapefruit',\n",
              "  'honey',\n",
              "  'lavender',\n",
              "  'lemon',\n",
              "  'lime',\n",
              "  'mango',\n",
              "  'menthol',\n",
              "  'mint',\n",
              "  'minty',\n",
              "  'none',\n",
              "  'nutty',\n",
              "  'orange',\n",
              "  'peach',\n",
              "  'pear',\n",
              "  'pepper',\n",
              "  'pine',\n",
              "  'pineapple',\n",
              "  'plum',\n",
              "  'pungent',\n",
              "  'rose',\n",
              "  'sage',\n",
              "  'skunk',\n",
              "  'spicy/herbal',\n",
              "  'strawberry',\n",
              "  'sweet',\n",
              "  'tar',\n",
              "  'tea',\n",
              "  'tobacco',\n",
              "  'tree',\n",
              "  'tropical',\n",
              "  'vanilla',\n",
              "  'violet',\n",
              "  'woody'})"
            ]
          },
          "metadata": {
            "tags": []
          },
          "execution_count": 10
        }
      ]
    },
    {
      "cell_type": "code",
      "metadata": {
        "id": "lkOq33Wmo0fi",
        "outputId": "df9a7317-3516-4a89-d4af-88569159801e",
        "colab": {
          "base_uri": "https://localhost:8080/",
          "height": 34
        }
      },
      "source": [
        "len(data['Strain'].unique())"
      ],
      "execution_count": null,
      "outputs": [
        {
          "output_type": "execute_result",
          "data": {
            "text/plain": [
              "2350"
            ]
          },
          "metadata": {
            "tags": []
          },
          "execution_count": 11
        }
      ]
    },
    {
      "cell_type": "code",
      "metadata": {
        "id": "ueiuZ9GkVGY_",
        "outputId": "504f362a-67ed-4deb-c1fd-444fc0b5a041",
        "colab": {
          "base_uri": "https://localhost:8080/",
          "height": 85
        }
      },
      "source": [
        "data['Type'].value_counts()"
      ],
      "execution_count": null,
      "outputs": [
        {
          "output_type": "execute_result",
          "data": {
            "text/plain": [
              "hybrid    1212\n",
              "indica     699\n",
              "sativa     440\n",
              "Name: Type, dtype: int64"
            ]
          },
          "metadata": {
            "tags": []
          },
          "execution_count": 12
        }
      ]
    },
    {
      "cell_type": "code",
      "metadata": {
        "id": "6aF5IvsbztfX",
        "outputId": "e943738b-8d43-40b9-8661-c9ed1f2bbf49",
        "colab": {
          "base_uri": "https://localhost:8080/",
          "height": 136
        }
      },
      "source": [
        "data.dtypes"
      ],
      "execution_count": null,
      "outputs": [
        {
          "output_type": "execute_result",
          "data": {
            "text/plain": [
              "Strain          object\n",
              "Type            object\n",
              "Rating         float64\n",
              "Effects         object\n",
              "Flavor          object\n",
              "Description     object\n",
              "dtype: object"
            ]
          },
          "metadata": {
            "tags": []
          },
          "execution_count": 12
        }
      ]
    },
    {
      "cell_type": "code",
      "metadata": {
        "id": "dIWIyh8_ZhUF"
      },
      "source": [
        "# Create a master profile feature\n",
        "data['Profile'] = data['Type'] + ',' + data['Effects'] + ',' +  data['Flavor'] + ',' + str(data['Rating'])"
      ],
      "execution_count": null,
      "outputs": []
    },
    {
      "cell_type": "code",
      "metadata": {
        "id": "vk59rezAae1N",
        "outputId": "72e16e05-8ff0-45d1-b409-02e752bbff18",
        "colab": {
          "base_uri": "https://localhost:8080/",
          "height": 52
        }
      },
      "source": [
        "data['Profile'][1]"
      ],
      "execution_count": null,
      "outputs": [
        {
          "output_type": "execute_result",
          "data": {
            "application/vnd.google.colaboratory.intrinsic+json": {
              "type": "string"
            },
            "text/plain": [
              "'hybrid,Relaxed,Aroused,Creative,Happy,Energetic,Flowery,Violet,Diesel,0       4.0\\n1       4.7\\n2       4.4\\n3       4.2\\n4       4.6\\n       ... \\n2346    4.7\\n2347    4.6\\n2348    5.0\\n2349    4.4\\n2350    4.6\\nName: Rating, Length: 2351, dtype: float64'"
            ]
          },
          "metadata": {
            "tags": []
          },
          "execution_count": 158
        }
      ]
    },
    {
      "cell_type": "markdown",
      "metadata": {
        "id": "kE2cILTQ7S7y"
      },
      "source": [
        "#KNN Model"
      ]
    },
    {
      "cell_type": "code",
      "metadata": {
        "id": "qO7YC4Mi3_xx",
        "outputId": "5f508943-ea79-42bd-bf27-bdb76042c29d",
        "colab": {
          "base_uri": "https://localhost:8080/",
          "height": 51
        }
      },
      "source": [
        "import spacy.cli\n",
        "spacy.cli.download('en_core_web_sm')"
      ],
      "execution_count": null,
      "outputs": [
        {
          "output_type": "stream",
          "text": [
            "\u001b[38;5;2m✔ Download and installation successful\u001b[0m\n",
            "You can now load the model via spacy.load('en_core_web_sm')\n"
          ],
          "name": "stdout"
        }
      ]
    },
    {
      "cell_type": "code",
      "metadata": {
        "id": "xiIXm4443LVO"
      },
      "source": [
        "nlp = spacy.load('en_core_web_sm')"
      ],
      "execution_count": null,
      "outputs": []
    },
    {
      "cell_type": "code",
      "metadata": {
        "id": "phWM-WI3mJcp"
      },
      "source": [
        "X = [nlp(str(item)).vector for item in data['Profile']]"
      ],
      "execution_count": null,
      "outputs": []
    },
    {
      "cell_type": "code",
      "metadata": {
        "id": "k95XN-r_m8ZN",
        "outputId": "bf2ac4aa-20be-4715-fba3-2d1794b75577",
        "colab": {
          "base_uri": "https://localhost:8080/",
          "height": 34
        }
      },
      "source": [
        "df = pd.DataFrame(X)\n",
        "df.shape"
      ],
      "execution_count": null,
      "outputs": [
        {
          "output_type": "execute_result",
          "data": {
            "text/plain": [
              "(2351, 96)"
            ]
          },
          "metadata": {
            "tags": []
          },
          "execution_count": 12
        }
      ]
    },
    {
      "cell_type": "code",
      "metadata": {
        "id": "jAF0_SeYnTJF",
        "outputId": "85bc0577-8a3e-4754-a8d6-a78c2526bd99",
        "colab": {
          "base_uri": "https://localhost:8080/",
          "height": 253
        }
      },
      "source": [
        "df.head()"
      ],
      "execution_count": null,
      "outputs": [
        {
          "output_type": "execute_result",
          "data": {
            "text/html": [
              "<div>\n",
              "<style scoped>\n",
              "    .dataframe tbody tr th:only-of-type {\n",
              "        vertical-align: middle;\n",
              "    }\n",
              "\n",
              "    .dataframe tbody tr th {\n",
              "        vertical-align: top;\n",
              "    }\n",
              "\n",
              "    .dataframe thead th {\n",
              "        text-align: right;\n",
              "    }\n",
              "</style>\n",
              "<table border=\"1\" class=\"dataframe\">\n",
              "  <thead>\n",
              "    <tr style=\"text-align: right;\">\n",
              "      <th></th>\n",
              "      <th>0</th>\n",
              "      <th>1</th>\n",
              "      <th>2</th>\n",
              "      <th>3</th>\n",
              "      <th>4</th>\n",
              "      <th>5</th>\n",
              "      <th>6</th>\n",
              "      <th>7</th>\n",
              "      <th>8</th>\n",
              "      <th>9</th>\n",
              "      <th>10</th>\n",
              "      <th>11</th>\n",
              "      <th>12</th>\n",
              "      <th>13</th>\n",
              "      <th>14</th>\n",
              "      <th>15</th>\n",
              "      <th>16</th>\n",
              "      <th>17</th>\n",
              "      <th>18</th>\n",
              "      <th>19</th>\n",
              "      <th>20</th>\n",
              "      <th>21</th>\n",
              "      <th>22</th>\n",
              "      <th>23</th>\n",
              "      <th>24</th>\n",
              "      <th>25</th>\n",
              "      <th>26</th>\n",
              "      <th>27</th>\n",
              "      <th>28</th>\n",
              "      <th>29</th>\n",
              "      <th>30</th>\n",
              "      <th>31</th>\n",
              "      <th>32</th>\n",
              "      <th>33</th>\n",
              "      <th>34</th>\n",
              "      <th>35</th>\n",
              "      <th>36</th>\n",
              "      <th>37</th>\n",
              "      <th>38</th>\n",
              "      <th>39</th>\n",
              "      <th>...</th>\n",
              "      <th>56</th>\n",
              "      <th>57</th>\n",
              "      <th>58</th>\n",
              "      <th>59</th>\n",
              "      <th>60</th>\n",
              "      <th>61</th>\n",
              "      <th>62</th>\n",
              "      <th>63</th>\n",
              "      <th>64</th>\n",
              "      <th>65</th>\n",
              "      <th>66</th>\n",
              "      <th>67</th>\n",
              "      <th>68</th>\n",
              "      <th>69</th>\n",
              "      <th>70</th>\n",
              "      <th>71</th>\n",
              "      <th>72</th>\n",
              "      <th>73</th>\n",
              "      <th>74</th>\n",
              "      <th>75</th>\n",
              "      <th>76</th>\n",
              "      <th>77</th>\n",
              "      <th>78</th>\n",
              "      <th>79</th>\n",
              "      <th>80</th>\n",
              "      <th>81</th>\n",
              "      <th>82</th>\n",
              "      <th>83</th>\n",
              "      <th>84</th>\n",
              "      <th>85</th>\n",
              "      <th>86</th>\n",
              "      <th>87</th>\n",
              "      <th>88</th>\n",
              "      <th>89</th>\n",
              "      <th>90</th>\n",
              "      <th>91</th>\n",
              "      <th>92</th>\n",
              "      <th>93</th>\n",
              "      <th>94</th>\n",
              "      <th>95</th>\n",
              "    </tr>\n",
              "  </thead>\n",
              "  <tbody>\n",
              "    <tr>\n",
              "      <th>0</th>\n",
              "      <td>0.354726</td>\n",
              "      <td>-1.214044</td>\n",
              "      <td>0.558231</td>\n",
              "      <td>0.460933</td>\n",
              "      <td>1.354464</td>\n",
              "      <td>0.865115</td>\n",
              "      <td>0.471298</td>\n",
              "      <td>0.133282</td>\n",
              "      <td>0.595543</td>\n",
              "      <td>-0.008739</td>\n",
              "      <td>1.376619</td>\n",
              "      <td>1.489451</td>\n",
              "      <td>-1.543706</td>\n",
              "      <td>-1.354528</td>\n",
              "      <td>-2.155865</td>\n",
              "      <td>-1.212803</td>\n",
              "      <td>0.260505</td>\n",
              "      <td>1.153557</td>\n",
              "      <td>0.483621</td>\n",
              "      <td>-0.235416</td>\n",
              "      <td>1.717711</td>\n",
              "      <td>-1.259839</td>\n",
              "      <td>-0.690264</td>\n",
              "      <td>-0.088017</td>\n",
              "      <td>-0.892222</td>\n",
              "      <td>0.067624</td>\n",
              "      <td>-1.155900</td>\n",
              "      <td>-1.080340</td>\n",
              "      <td>1.578337</td>\n",
              "      <td>-0.911599</td>\n",
              "      <td>-0.107353</td>\n",
              "      <td>-0.726251</td>\n",
              "      <td>0.020976</td>\n",
              "      <td>-0.201912</td>\n",
              "      <td>-0.431743</td>\n",
              "      <td>-0.698779</td>\n",
              "      <td>1.322874</td>\n",
              "      <td>-1.176686</td>\n",
              "      <td>1.148563</td>\n",
              "      <td>0.211596</td>\n",
              "      <td>...</td>\n",
              "      <td>-0.735736</td>\n",
              "      <td>0.597935</td>\n",
              "      <td>1.448869</td>\n",
              "      <td>-0.501088</td>\n",
              "      <td>0.490752</td>\n",
              "      <td>0.067765</td>\n",
              "      <td>1.379793</td>\n",
              "      <td>-0.449045</td>\n",
              "      <td>1.283808</td>\n",
              "      <td>-0.522273</td>\n",
              "      <td>2.229040</td>\n",
              "      <td>-1.137660</td>\n",
              "      <td>-1.820875</td>\n",
              "      <td>1.180262</td>\n",
              "      <td>1.686524</td>\n",
              "      <td>-1.345930</td>\n",
              "      <td>0.680885</td>\n",
              "      <td>0.610567</td>\n",
              "      <td>-0.238974</td>\n",
              "      <td>-0.024083</td>\n",
              "      <td>0.042082</td>\n",
              "      <td>2.269241</td>\n",
              "      <td>0.639109</td>\n",
              "      <td>-0.553829</td>\n",
              "      <td>1.026207</td>\n",
              "      <td>-0.004959</td>\n",
              "      <td>0.068601</td>\n",
              "      <td>-0.239944</td>\n",
              "      <td>2.753455</td>\n",
              "      <td>1.383925</td>\n",
              "      <td>-0.001384</td>\n",
              "      <td>-0.564256</td>\n",
              "      <td>-0.725815</td>\n",
              "      <td>-0.746969</td>\n",
              "      <td>0.141355</td>\n",
              "      <td>0.264706</td>\n",
              "      <td>-0.017476</td>\n",
              "      <td>-0.725212</td>\n",
              "      <td>0.292572</td>\n",
              "      <td>0.334034</td>\n",
              "    </tr>\n",
              "    <tr>\n",
              "      <th>1</th>\n",
              "      <td>0.345807</td>\n",
              "      <td>-1.163711</td>\n",
              "      <td>0.503540</td>\n",
              "      <td>0.537787</td>\n",
              "      <td>1.211014</td>\n",
              "      <td>0.898536</td>\n",
              "      <td>0.416772</td>\n",
              "      <td>0.137764</td>\n",
              "      <td>0.652658</td>\n",
              "      <td>0.188688</td>\n",
              "      <td>1.429866</td>\n",
              "      <td>1.335036</td>\n",
              "      <td>-1.676190</td>\n",
              "      <td>-1.355819</td>\n",
              "      <td>-2.182853</td>\n",
              "      <td>-1.199458</td>\n",
              "      <td>0.262901</td>\n",
              "      <td>1.281935</td>\n",
              "      <td>0.462808</td>\n",
              "      <td>-0.311308</td>\n",
              "      <td>1.644300</td>\n",
              "      <td>-1.220142</td>\n",
              "      <td>-0.688234</td>\n",
              "      <td>-0.078578</td>\n",
              "      <td>-0.940707</td>\n",
              "      <td>-0.075589</td>\n",
              "      <td>-1.341006</td>\n",
              "      <td>-1.109930</td>\n",
              "      <td>1.652313</td>\n",
              "      <td>-0.845720</td>\n",
              "      <td>-0.002826</td>\n",
              "      <td>-0.907333</td>\n",
              "      <td>0.133378</td>\n",
              "      <td>-0.185603</td>\n",
              "      <td>-0.421436</td>\n",
              "      <td>-0.610048</td>\n",
              "      <td>1.339940</td>\n",
              "      <td>-1.111626</td>\n",
              "      <td>1.224102</td>\n",
              "      <td>0.329836</td>\n",
              "      <td>...</td>\n",
              "      <td>-0.759670</td>\n",
              "      <td>0.571425</td>\n",
              "      <td>1.476756</td>\n",
              "      <td>-0.435935</td>\n",
              "      <td>0.559484</td>\n",
              "      <td>0.017474</td>\n",
              "      <td>1.321906</td>\n",
              "      <td>-0.429221</td>\n",
              "      <td>1.052382</td>\n",
              "      <td>-0.569634</td>\n",
              "      <td>2.240742</td>\n",
              "      <td>-1.127420</td>\n",
              "      <td>-1.964644</td>\n",
              "      <td>1.140884</td>\n",
              "      <td>1.722873</td>\n",
              "      <td>-1.194820</td>\n",
              "      <td>0.594219</td>\n",
              "      <td>0.497937</td>\n",
              "      <td>-0.281330</td>\n",
              "      <td>0.075993</td>\n",
              "      <td>-0.097674</td>\n",
              "      <td>2.341012</td>\n",
              "      <td>0.644269</td>\n",
              "      <td>-0.772472</td>\n",
              "      <td>0.990916</td>\n",
              "      <td>-0.031269</td>\n",
              "      <td>0.090199</td>\n",
              "      <td>-0.280487</td>\n",
              "      <td>2.859144</td>\n",
              "      <td>1.408176</td>\n",
              "      <td>0.039063</td>\n",
              "      <td>-0.660159</td>\n",
              "      <td>-0.696367</td>\n",
              "      <td>-0.731349</td>\n",
              "      <td>0.021080</td>\n",
              "      <td>0.133559</td>\n",
              "      <td>0.013984</td>\n",
              "      <td>-0.606200</td>\n",
              "      <td>0.427626</td>\n",
              "      <td>0.363346</td>\n",
              "    </tr>\n",
              "    <tr>\n",
              "      <th>2</th>\n",
              "      <td>0.402839</td>\n",
              "      <td>-1.026178</td>\n",
              "      <td>0.376286</td>\n",
              "      <td>0.454549</td>\n",
              "      <td>1.351765</td>\n",
              "      <td>0.767989</td>\n",
              "      <td>0.373930</td>\n",
              "      <td>0.083797</td>\n",
              "      <td>0.660569</td>\n",
              "      <td>-0.148323</td>\n",
              "      <td>1.417799</td>\n",
              "      <td>1.513975</td>\n",
              "      <td>-1.501284</td>\n",
              "      <td>-1.312195</td>\n",
              "      <td>-2.032710</td>\n",
              "      <td>-1.041674</td>\n",
              "      <td>0.321217</td>\n",
              "      <td>1.298158</td>\n",
              "      <td>0.551362</td>\n",
              "      <td>-0.430059</td>\n",
              "      <td>1.750123</td>\n",
              "      <td>-1.099843</td>\n",
              "      <td>-0.685772</td>\n",
              "      <td>-0.005128</td>\n",
              "      <td>-0.975476</td>\n",
              "      <td>-0.057679</td>\n",
              "      <td>-1.117060</td>\n",
              "      <td>-1.200906</td>\n",
              "      <td>1.683930</td>\n",
              "      <td>-0.810279</td>\n",
              "      <td>-0.128796</td>\n",
              "      <td>-0.691641</td>\n",
              "      <td>-0.035449</td>\n",
              "      <td>-0.281910</td>\n",
              "      <td>-0.526771</td>\n",
              "      <td>-0.708090</td>\n",
              "      <td>1.433776</td>\n",
              "      <td>-1.222712</td>\n",
              "      <td>1.163826</td>\n",
              "      <td>0.184522</td>\n",
              "      <td>...</td>\n",
              "      <td>-0.637169</td>\n",
              "      <td>0.422562</td>\n",
              "      <td>1.275893</td>\n",
              "      <td>-0.386210</td>\n",
              "      <td>0.638397</td>\n",
              "      <td>0.215625</td>\n",
              "      <td>1.286513</td>\n",
              "      <td>-0.261293</td>\n",
              "      <td>1.142172</td>\n",
              "      <td>-0.723952</td>\n",
              "      <td>2.169520</td>\n",
              "      <td>-0.916088</td>\n",
              "      <td>-1.940472</td>\n",
              "      <td>1.114567</td>\n",
              "      <td>1.538393</td>\n",
              "      <td>-1.322058</td>\n",
              "      <td>0.553656</td>\n",
              "      <td>0.637850</td>\n",
              "      <td>-0.352636</td>\n",
              "      <td>-0.039542</td>\n",
              "      <td>-0.008172</td>\n",
              "      <td>2.166485</td>\n",
              "      <td>0.698780</td>\n",
              "      <td>-0.701138</td>\n",
              "      <td>1.105407</td>\n",
              "      <td>-0.000108</td>\n",
              "      <td>0.178269</td>\n",
              "      <td>-0.196970</td>\n",
              "      <td>2.641396</td>\n",
              "      <td>1.312866</td>\n",
              "      <td>0.149788</td>\n",
              "      <td>-0.611777</td>\n",
              "      <td>-0.721009</td>\n",
              "      <td>-0.762531</td>\n",
              "      <td>0.180147</td>\n",
              "      <td>0.248035</td>\n",
              "      <td>-0.088283</td>\n",
              "      <td>-0.693737</td>\n",
              "      <td>0.324018</td>\n",
              "      <td>0.345734</td>\n",
              "    </tr>\n",
              "    <tr>\n",
              "      <th>3</th>\n",
              "      <td>0.191648</td>\n",
              "      <td>-1.099868</td>\n",
              "      <td>0.447670</td>\n",
              "      <td>0.437231</td>\n",
              "      <td>1.212628</td>\n",
              "      <td>0.879447</td>\n",
              "      <td>0.388952</td>\n",
              "      <td>0.111454</td>\n",
              "      <td>0.648283</td>\n",
              "      <td>0.121072</td>\n",
              "      <td>1.309956</td>\n",
              "      <td>1.401361</td>\n",
              "      <td>-1.641491</td>\n",
              "      <td>-1.210370</td>\n",
              "      <td>-2.146176</td>\n",
              "      <td>-1.110383</td>\n",
              "      <td>0.351649</td>\n",
              "      <td>1.278637</td>\n",
              "      <td>0.542277</td>\n",
              "      <td>-0.287113</td>\n",
              "      <td>1.457264</td>\n",
              "      <td>-1.275871</td>\n",
              "      <td>-0.702265</td>\n",
              "      <td>-0.099895</td>\n",
              "      <td>-0.930977</td>\n",
              "      <td>-0.055220</td>\n",
              "      <td>-1.344052</td>\n",
              "      <td>-1.090050</td>\n",
              "      <td>1.641188</td>\n",
              "      <td>-0.770712</td>\n",
              "      <td>-0.099107</td>\n",
              "      <td>-0.782415</td>\n",
              "      <td>-0.067619</td>\n",
              "      <td>-0.143828</td>\n",
              "      <td>-0.271191</td>\n",
              "      <td>-0.514618</td>\n",
              "      <td>1.360468</td>\n",
              "      <td>-1.221690</td>\n",
              "      <td>1.182598</td>\n",
              "      <td>0.300818</td>\n",
              "      <td>...</td>\n",
              "      <td>-0.739594</td>\n",
              "      <td>0.558454</td>\n",
              "      <td>1.380761</td>\n",
              "      <td>-0.457168</td>\n",
              "      <td>0.536404</td>\n",
              "      <td>0.228523</td>\n",
              "      <td>1.326899</td>\n",
              "      <td>-0.404802</td>\n",
              "      <td>1.168838</td>\n",
              "      <td>-0.388515</td>\n",
              "      <td>2.215576</td>\n",
              "      <td>-1.248806</td>\n",
              "      <td>-1.872734</td>\n",
              "      <td>1.094773</td>\n",
              "      <td>1.690426</td>\n",
              "      <td>-1.186881</td>\n",
              "      <td>0.648525</td>\n",
              "      <td>0.576559</td>\n",
              "      <td>-0.273659</td>\n",
              "      <td>-0.013629</td>\n",
              "      <td>-0.039928</td>\n",
              "      <td>2.335309</td>\n",
              "      <td>0.557571</td>\n",
              "      <td>-0.742393</td>\n",
              "      <td>0.986348</td>\n",
              "      <td>-0.004865</td>\n",
              "      <td>0.112854</td>\n",
              "      <td>-0.241546</td>\n",
              "      <td>2.890308</td>\n",
              "      <td>1.421865</td>\n",
              "      <td>0.105366</td>\n",
              "      <td>-0.561885</td>\n",
              "      <td>-0.811475</td>\n",
              "      <td>-0.705413</td>\n",
              "      <td>0.052072</td>\n",
              "      <td>0.204617</td>\n",
              "      <td>-0.003423</td>\n",
              "      <td>-0.492892</td>\n",
              "      <td>0.254657</td>\n",
              "      <td>0.326938</td>\n",
              "    </tr>\n",
              "    <tr>\n",
              "      <th>4</th>\n",
              "      <td>0.433720</td>\n",
              "      <td>-1.127400</td>\n",
              "      <td>0.528763</td>\n",
              "      <td>0.512377</td>\n",
              "      <td>1.372391</td>\n",
              "      <td>0.913417</td>\n",
              "      <td>0.476348</td>\n",
              "      <td>0.159518</td>\n",
              "      <td>0.607584</td>\n",
              "      <td>-0.048946</td>\n",
              "      <td>1.479950</td>\n",
              "      <td>1.553993</td>\n",
              "      <td>-1.725303</td>\n",
              "      <td>-1.447234</td>\n",
              "      <td>-2.120424</td>\n",
              "      <td>-1.093538</td>\n",
              "      <td>0.308891</td>\n",
              "      <td>1.339141</td>\n",
              "      <td>0.558512</td>\n",
              "      <td>-0.397709</td>\n",
              "      <td>1.779436</td>\n",
              "      <td>-1.288073</td>\n",
              "      <td>-0.654829</td>\n",
              "      <td>-0.022857</td>\n",
              "      <td>-0.898127</td>\n",
              "      <td>-0.032927</td>\n",
              "      <td>-1.294309</td>\n",
              "      <td>-1.143616</td>\n",
              "      <td>1.661815</td>\n",
              "      <td>-0.841780</td>\n",
              "      <td>-0.102796</td>\n",
              "      <td>-0.789406</td>\n",
              "      <td>0.044329</td>\n",
              "      <td>-0.204503</td>\n",
              "      <td>-0.421557</td>\n",
              "      <td>-0.652648</td>\n",
              "      <td>1.404581</td>\n",
              "      <td>-1.259315</td>\n",
              "      <td>1.179111</td>\n",
              "      <td>0.126498</td>\n",
              "      <td>...</td>\n",
              "      <td>-0.789057</td>\n",
              "      <td>0.589757</td>\n",
              "      <td>1.412727</td>\n",
              "      <td>-0.400946</td>\n",
              "      <td>0.467955</td>\n",
              "      <td>0.258935</td>\n",
              "      <td>1.312889</td>\n",
              "      <td>-0.398318</td>\n",
              "      <td>1.149196</td>\n",
              "      <td>-0.582268</td>\n",
              "      <td>2.143822</td>\n",
              "      <td>-1.119448</td>\n",
              "      <td>-1.865888</td>\n",
              "      <td>1.263614</td>\n",
              "      <td>1.712827</td>\n",
              "      <td>-1.318272</td>\n",
              "      <td>0.618975</td>\n",
              "      <td>0.708785</td>\n",
              "      <td>-0.267535</td>\n",
              "      <td>-0.034706</td>\n",
              "      <td>-0.101632</td>\n",
              "      <td>2.297103</td>\n",
              "      <td>0.695900</td>\n",
              "      <td>-0.654464</td>\n",
              "      <td>0.999718</td>\n",
              "      <td>0.064705</td>\n",
              "      <td>0.130263</td>\n",
              "      <td>-0.294807</td>\n",
              "      <td>2.800820</td>\n",
              "      <td>1.395579</td>\n",
              "      <td>0.068859</td>\n",
              "      <td>-0.651090</td>\n",
              "      <td>-0.683539</td>\n",
              "      <td>-0.782758</td>\n",
              "      <td>0.121693</td>\n",
              "      <td>0.264377</td>\n",
              "      <td>-0.038408</td>\n",
              "      <td>-0.624086</td>\n",
              "      <td>0.262207</td>\n",
              "      <td>0.245549</td>\n",
              "    </tr>\n",
              "  </tbody>\n",
              "</table>\n",
              "<p>5 rows × 96 columns</p>\n",
              "</div>"
            ],
            "text/plain": [
              "         0         1         2   ...        93        94        95\n",
              "0  0.354726 -1.214044  0.558231  ... -0.725212  0.292572  0.334034\n",
              "1  0.345807 -1.163711  0.503540  ... -0.606200  0.427626  0.363346\n",
              "2  0.402839 -1.026178  0.376286  ... -0.693737  0.324018  0.345734\n",
              "3  0.191648 -1.099868  0.447670  ... -0.492892  0.254657  0.326938\n",
              "4  0.433720 -1.127400  0.528763  ... -0.624086  0.262207  0.245549\n",
              "\n",
              "[5 rows x 96 columns]"
            ]
          },
          "metadata": {
            "tags": []
          },
          "execution_count": 13
        }
      ]
    },
    {
      "cell_type": "code",
      "metadata": {
        "id": "ZkT6ovBHAJ-Z"
      },
      "source": [
        "from sklearn.neighbors import NearestNeighbors"
      ],
      "execution_count": null,
      "outputs": []
    },
    {
      "cell_type": "code",
      "metadata": {
        "id": "WXtzAkiooiTR",
        "outputId": "51267ad9-cc1f-441f-921f-b964b68317d6",
        "colab": {
          "base_uri": "https://localhost:8080/",
          "height": 68
        }
      },
      "source": [
        "nn = NearestNeighbors(n_neighbors=3, algorithm='ball_tree')\n",
        "nn.fit(df)"
      ],
      "execution_count": null,
      "outputs": [
        {
          "output_type": "execute_result",
          "data": {
            "text/plain": [
              "NearestNeighbors(algorithm='ball_tree', leaf_size=30, metric='minkowski',\n",
              "                 metric_params=None, n_jobs=None, n_neighbors=3, p=2,\n",
              "                 radius=1.0)"
            ]
          },
          "metadata": {
            "tags": []
          },
          "execution_count": 15
        }
      ]
    },
    {
      "cell_type": "code",
      "metadata": {
        "id": "3njoxFX4t-e_"
      },
      "source": [
        "import pickle"
      ],
      "execution_count": null,
      "outputs": []
    },
    {
      "cell_type": "code",
      "metadata": {
        "id": "clF7kJWruQQg"
      },
      "source": [
        "pickle.dump(nn, open('model.pkl', 'wb'))"
      ],
      "execution_count": null,
      "outputs": []
    },
    {
      "cell_type": "code",
      "metadata": {
        "id": "ggt_o73Dos22"
      },
      "source": [
        "# Test model\n",
        "test = 'hybrid relaxed spicy'\n",
        "test_vect = nlp(test).vector\n",
        "vect=test_vect.reshape(1,-1)\n",
        "# vect.shape\n",
        "# print(len(test_vect))\n",
        "# test_df = pd.DataFrame(test_vect).transpose()\n",
        "result = nn.kneighbors(vect)"
      ],
      "execution_count": null,
      "outputs": []
    },
    {
      "cell_type": "code",
      "metadata": {
        "id": "fQjLc0ei93eh",
        "outputId": "85c5d55d-dfa8-42dc-f83e-cfa84f132974",
        "colab": {
          "base_uri": "https://localhost:8080/",
          "height": 34
        }
      },
      "source": [
        "result"
      ],
      "execution_count": null,
      "outputs": [
        {
          "output_type": "execute_result",
          "data": {
            "text/plain": [
              "(array([[13.79570682, 13.79914151, 13.80494399]]), array([[ 743,  791, 1872]]))"
            ]
          },
          "metadata": {
            "tags": []
          },
          "execution_count": 24
        }
      ]
    },
    {
      "cell_type": "code",
      "metadata": {
        "id": "i49IywoG-D4v",
        "outputId": "04d1e373-cf7f-4102-dff8-fea6df572ab6",
        "colab": {
          "base_uri": "https://localhost:8080/",
          "height": 34
        }
      },
      "source": [
        "result[1]"
      ],
      "execution_count": null,
      "outputs": [
        {
          "output_type": "execute_result",
          "data": {
            "text/plain": [
              "array([[ 743,  791, 1872]])"
            ]
          },
          "metadata": {
            "tags": []
          },
          "execution_count": 27
        }
      ]
    },
    {
      "cell_type": "code",
      "metadata": {
        "id": "fMzBnx3Z-MiS",
        "outputId": "aac69fa3-93e7-4505-ece3-90dfa1af2f90",
        "colab": {
          "base_uri": "https://localhost:8080/",
          "height": 34
        }
      },
      "source": [
        "result[1][0]"
      ],
      "execution_count": null,
      "outputs": [
        {
          "output_type": "execute_result",
          "data": {
            "text/plain": [
              "array([ 743,  791, 1872])"
            ]
          },
          "metadata": {
            "tags": []
          },
          "execution_count": 28
        }
      ]
    },
    {
      "cell_type": "code",
      "metadata": {
        "id": "-HxN8MvFwstP"
      },
      "source": [
        "names = [data['Strain'].iloc[x] for x in result[1][0]]"
      ],
      "execution_count": null,
      "outputs": []
    },
    {
      "cell_type": "code",
      "metadata": {
        "id": "25piXrCiw5Hu",
        "outputId": "be58a52d-a975-46c5-e1e3-ff27c637455b",
        "colab": {
          "base_uri": "https://localhost:8080/",
          "height": 34
        }
      },
      "source": [
        "names"
      ],
      "execution_count": null,
      "outputs": [
        {
          "output_type": "execute_result",
          "data": {
            "text/plain": [
              "['Ebola-7', 'Fire-Alien-Strawberry', 'Silverfalls-Kush']"
            ]
          },
          "metadata": {
            "tags": []
          },
          "execution_count": 23
        }
      ]
    },
    {
      "cell_type": "code",
      "metadata": {
        "id": "sUuUIGQ0FBEv",
        "outputId": "48ee45c1-e505-4562-b059-6189a23d13a3",
        "colab": {
          "base_uri": "https://localhost:8080/",
          "height": 119
        }
      },
      "source": [
        "for item in result[1][0]:\n",
        "  print (f\"{data['Strain'].iloc[item]}\\n\")"
      ],
      "execution_count": null,
      "outputs": [
        {
          "output_type": "stream",
          "text": [
            "Ebola-7\n",
            "\n",
            "Fire-Alien-Strawberry\n",
            "\n",
            "Silverfalls-Kush\n",
            "\n"
          ],
          "name": "stdout"
        }
      ]
    }
  ]
}